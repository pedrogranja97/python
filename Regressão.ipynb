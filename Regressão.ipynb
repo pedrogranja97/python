{
 "cells": [
  {
   "cell_type": "code",
   "execution_count": 1,
   "id": "persistent-character",
   "metadata": {},
   "outputs": [],
   "source": [
    "### obtendo pacotes necessários\n",
    "\n",
    "import pandas as pd\n",
    "import matplotlib.pyplot as plt\n",
    "import numpy as np\n",
    "import statsmodels.api as sm\n",
    "plt.style.use('fivethirtyeight')"
   ]
  },
  {
   "cell_type": "code",
   "execution_count": 2,
   "id": "united-percentage",
   "metadata": {},
   "outputs": [],
   "source": [
    "### função para interagir com API do bacen\n",
    "\n",
    "def bcb(codigo) :\n",
    "    link = f'http://api.bcb.gov.br/dados/serie/bcdata.sgs.{codigo}/dados?formato=json'\n",
    "    df = pd.read_json(link)\n",
    "    df['data'] = pd.to_datetime(df['data'], dayfirst=True)\n",
    "    df.set_index('data', inplace=True)\n",
    "    return df"
   ]
  },
  {
   "cell_type": "code",
   "execution_count": 3,
   "id": "trained-invitation",
   "metadata": {},
   "outputs": [],
   "source": [
    "### puxando dados da inflação\n",
    "\n",
    "ipca = bcb(13522)"
   ]
  },
  {
   "cell_type": "code",
   "execution_count": 4,
   "id": "failing-library",
   "metadata": {},
   "outputs": [],
   "source": [
    "### puxando dados do desemprego\n",
    "\n",
    "base = pd.read_excel(r'C:\\Users\\Pichau\\Desktop\\txdesemprego.xlsx', index_col = 0, header = 0)"
   ]
  },
  {
   "cell_type": "code",
   "execution_count": 5,
   "id": "preliminary-locator",
   "metadata": {},
   "outputs": [],
   "source": [
    "### obtendo variação da inflação de 12 em 12 meses\n",
    "\n",
    "base['IPCA'] = (ipca / ipca.shift(12)) - 1\n",
    "\n",
    "base = base.dropna()"
   ]
  },
  {
   "cell_type": "code",
   "execution_count": 6,
   "id": "sufficient-finnish",
   "metadata": {},
   "outputs": [],
   "source": [
    "### organizando dados em variáveis\n",
    "\n",
    "y = base['Taxa de desemprego']\n",
    "x = base['IPCA']"
   ]
  },
  {
   "cell_type": "code",
   "execution_count": 7,
   "id": "extreme-texture",
   "metadata": {},
   "outputs": [
    {
     "data": {
      "image/png": "[encoded data removed]",
      "text/plain": [
       "<Figure size 432x288 with 1 Axes>"
      ]
     },
     "metadata": {},
     "output_type": "display_data"
    }
   ],
   "source": [
    "### plotando gráfico\n",
    "\n",
    "plt.scatter(x, y, color = 'red')\n",
    "m, b = np.polyfit(x, y, 1)\n",
    "\n",
    "plt.plot(x, m*x + b, color = 'black', linewidth=1, linestyle = 'dashed')\n",
    "plt.ylabel('Desemprego em %', fontsize = 12, fontname = 'Franklin Gothic Book')\n",
    "plt.xlabel('Aceleração da inflação (12 meses)', fontsize = 12, fontname = 'Franklin Gothic Book')\n",
    "plt.title('Curva de Phillips aceleracionista', fontsize = 16, fontname = 'Franklin Gothic Book')\n",
    "plt.ylim(4, 16)\n",
    "plt.xticks(fontname = 'Franklin Gothic Book')\n",
    "plt.figtext(0.7, -0.1, \"Fonte: IBGE (2012 a 2020)\", ha=\"center\", fontsize=12, fontname = 'Franklin Gothic Book')\n",
    "plt.show()"
   ]
  },
  {
   "cell_type": "code",
   "execution_count": 8,
   "id": "heard-cream",
   "metadata": {},
   "outputs": [
    {
     "data": {
      "text/html": [
       "<table class=\"simpletable\">\n",
       "<caption>OLS Regression Results</caption>\n",
       "<tr>\n",
       "  <th>Dep. Variable:</th>    <td>Taxa de desemprego</td> <th>  R-squared:         </th> <td>   0.050</td>\n",
       "</tr>\n",
       "<tr>\n",
       "  <th>Model:</th>                    <td>OLS</td>        <th>  Adj. R-squared:    </th> <td>   0.041</td>\n",
       "</tr>\n",
       "<tr>\n",
       "  <th>Method:</th>              <td>Least Squares</td>   <th>  F-statistic:       </th> <td>   5.546</td>\n",
       "</tr>\n",
       "<tr>\n",
       "  <th>Date:</th>              <td>Wed, 19 May 2021</td>  <th>  Prob (F-statistic):</th>  <td>0.0204</td> \n",
       "</tr>\n",
       "<tr>\n",
       "  <th>Time:</th>                  <td>20:39:27</td>      <th>  Log-Likelihood:    </th> <td> -254.40</td>\n",
       "</tr>\n",
       "<tr>\n",
       "  <th>No. Observations:</th>       <td>   108</td>       <th>  AIC:               </th> <td>   512.8</td>\n",
       "</tr>\n",
       "<tr>\n",
       "  <th>Df Residuals:</th>           <td>   106</td>       <th>  BIC:               </th> <td>   518.2</td>\n",
       "</tr>\n",
       "<tr>\n",
       "  <th>Df Model:</th>               <td>     1</td>       <th>                     </th>     <td> </td>   \n",
       "</tr>\n",
       "<tr>\n",
       "  <th>Covariance Type:</th>       <td>nonrobust</td>     <th>                     </th>     <td> </td>   \n",
       "</tr>\n",
       "</table>\n",
       "<table class=\"simpletable\">\n",
       "<tr>\n",
       "    <td></td>       <th>coef</th>     <th>std err</th>      <th>t</th>      <th>P>|t|</th>  <th>[0.025</th>    <th>0.975]</th>  \n",
       "</tr>\n",
       "<tr>\n",
       "  <th>const</th> <td>   10.2496</td> <td>    0.248</td> <td>   41.359</td> <td> 0.000</td> <td>    9.758</td> <td>   10.741</td>\n",
       "</tr>\n",
       "<tr>\n",
       "  <th>IPCA</th>  <td>   -1.5337</td> <td>    0.651</td> <td>   -2.355</td> <td> 0.020</td> <td>   -2.825</td> <td>   -0.243</td>\n",
       "</tr>\n",
       "</table>\n",
       "<table class=\"simpletable\">\n",
       "<tr>\n",
       "  <th>Omnibus:</th>       <td>62.781</td> <th>  Durbin-Watson:     </th> <td>   0.022</td>\n",
       "</tr>\n",
       "<tr>\n",
       "  <th>Prob(Omnibus):</th> <td> 0.000</td> <th>  Jarque-Bera (JB):  </th> <td>   7.833</td>\n",
       "</tr>\n",
       "<tr>\n",
       "  <th>Skew:</th>          <td>-0.111</td> <th>  Prob(JB):          </th> <td>  0.0199</td>\n",
       "</tr>\n",
       "<tr>\n",
       "  <th>Kurtosis:</th>      <td> 1.700</td> <th>  Cond. No.          </th> <td>    2.63</td>\n",
       "</tr>\n",
       "</table><br/><br/>Notes:<br/>[1] Standard Errors assume that the covariance matrix of the errors is correctly specified."
      ],
      "text/plain": [
       "<class 'statsmodels.iolib.summary.Summary'>\n",
       "\"\"\"\n",
       "                            OLS Regression Results                            \n",
       "==============================================================================\n",
       "Dep. Variable:     Taxa de desemprego   R-squared:                       0.050\n",
       "Model:                            OLS   Adj. R-squared:                  0.041\n",
       "Method:                 Least Squares   F-statistic:                     5.546\n",
       "Date:                Wed, 19 May 2021   Prob (F-statistic):             0.0204\n",
       "Time:                        20:39:27   Log-Likelihood:                -254.40\n",
       "No. Observations:                 108   AIC:                             512.8\n",
       "Df Residuals:                     106   BIC:                             518.2\n",
       "Df Model:                           1                                         \n",
       "Covariance Type:            nonrobust                                         \n",
       "==============================================================================\n",
       "                 coef    std err          t      P>|t|      [0.025      0.975]\n",
       "------------------------------------------------------------------------------\n",
       "const         10.2496      0.248     41.359      0.000       9.758      10.741\n",
       "IPCA          -1.5337      0.651     -2.355      0.020      -2.825      -0.243\n",
       "==============================================================================\n",
       "Omnibus:                       62.781   Durbin-Watson:                   0.022\n",
       "Prob(Omnibus):                  0.000   Jarque-Bera (JB):                7.833\n",
       "Skew:                          -0.111   Prob(JB):                       0.0199\n",
       "Kurtosis:                       1.700   Cond. No.                         2.63\n",
       "==============================================================================\n",
       "\n",
       "Notes:\n",
       "[1] Standard Errors assume that the covariance matrix of the errors is correctly specified.\n",
       "\"\"\""
      ]
     },
     "execution_count": 8,
     "metadata": {},
     "output_type": "execute_result"
    }
   ],
   "source": [
    "### análise de regressão (mínimos quadrados)\n",
    "\n",
    "X_sm = sm.add_constant(x)\n",
    "results = sm.OLS(y, X_sm).fit()\n",
    "results.summary()"
   ]
  },
  {
   "cell_type": "markdown",
   "id": "american-behalf",
   "metadata": {},
   "source": [
    "##### Os dados mostram resultados não robustos. "
   ]
  }
 ],
 "metadata": {
  "kernelspec": {
   "display_name": "Python 3",
   "language": "python",
   "name": "python3"
  },
  "language_info": {
   "codemirror_mode": {
    "name": "ipython",
    "version": 3
   },
   "file_extension": ".py",
   "mimetype": "text/x-python",
   "name": "python",
   "nbconvert_exporter": "python",
   "pygments_lexer": "ipython3",
   "version": "3.8.5"
  }
 },
 "nbformat": 4,
 "nbformat_minor": 5
}
