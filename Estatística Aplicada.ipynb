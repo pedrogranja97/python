{
 "cells": [
  {
   "cell_type": "code",
   "execution_count": 1,
   "id": "aware-palmer",
   "metadata": {},
   "outputs": [],
   "source": [
    "import pandas as pd\n",
    "import numpy as np\n",
    "import matplotlib.pyplot as plt\n",
    "import statsmodels.api as sm \n",
    "import scipy.stats\n",
    "import math"
   ]
  },
  {
   "cell_type": "code",
   "execution_count": 2,
   "id": "behavioral-vegetarian",
   "metadata": {},
   "outputs": [
    {
     "data": {
      "text/plain": [
       "5050"
      ]
     },
     "execution_count": 2,
     "metadata": {},
     "output_type": "execute_result"
    }
   ],
   "source": [
    "soma = sum(range(1, 101))\n",
    "soma"
   ]
  },
  {
   "cell_type": "code",
   "execution_count": 3,
   "id": "frequent-entrepreneur",
   "metadata": {},
   "outputs": [
    {
     "data": {
      "text/plain": [
       "71.06335201775947"
      ]
     },
     "execution_count": 3,
     "metadata": {},
     "output_type": "execute_result"
    }
   ],
   "source": [
    "resultado = math.sqrt(soma)\n",
    "resultado"
   ]
  },
  {
   "cell_type": "code",
   "execution_count": 4,
   "id": "solved-dietary",
   "metadata": {},
   "outputs": [
    {
     "name": "stdout",
     "output_type": "stream",
     "text": [
      "O resultado final é 71.1.\n"
     ]
    }
   ],
   "source": [
    "print('O resultado final é ' + str(round(resultado, 1)) + '.')"
   ]
  },
  {
   "cell_type": "markdown",
   "id": "above-mortality",
   "metadata": {},
   "source": [
    "##### Obs: Não conseguiria fazer no R, mas vou estudar para aprender mais pra frente. "
   ]
  },
  {
   "cell_type": "markdown",
   "id": "electronic-batman",
   "metadata": {},
   "source": [
    "##### Para a 2ª questão, vou baixar alguns dados do Bacen."
   ]
  },
  {
   "cell_type": "markdown",
   "id": "infrared-edgar",
   "metadata": {},
   "source": [
    "### Obtendo dados do Bacen"
   ]
  },
  {
   "cell_type": "code",
   "execution_count": 5,
   "id": "constant-bolivia",
   "metadata": {},
   "outputs": [],
   "source": [
    "def consulta_bc(codigo_bcb):\n",
    "    url = 'http://api.bcb.gov.br/dados/serie/bcdata.sgs.{}/dados?formato=json'.format(codigo_bcb)\n",
    "    df = pd.read_json(url)\n",
    "    df['data'] = pd.to_datetime(df['data'], dayfirst=True)\n",
    "    df.set_index('data', inplace=True)\n",
    "    return df"
   ]
  },
  {
   "cell_type": "code",
   "execution_count": 6,
   "id": "needed-chemical",
   "metadata": {},
   "outputs": [],
   "source": [
    "selic = 4390\n",
    "juros_pj = 25434\n",
    "juros_pf = 25435"
   ]
  },
  {
   "cell_type": "code",
   "execution_count": 7,
   "id": "dated-announcement",
   "metadata": {},
   "outputs": [
    {
     "data": {
      "text/html": [
       "<div>\n",
       "<style scoped>\n",
       "    .dataframe tbody tr th:only-of-type {\n",
       "        vertical-align: middle;\n",
       "    }\n",
       "\n",
       "    .dataframe tbody tr th {\n",
       "        vertical-align: top;\n",
       "    }\n",
       "\n",
       "    .dataframe thead th {\n",
       "        text-align: right;\n",
       "    }\n",
       "</style>\n",
       "<table border=\"1\" class=\"dataframe\">\n",
       "  <thead>\n",
       "    <tr style=\"text-align: right;\">\n",
       "      <th></th>\n",
       "      <th>SELIC</th>\n",
       "      <th>Juros de Pessoa Jurídica</th>\n",
       "      <th>Juros de Pessoa Física</th>\n",
       "    </tr>\n",
       "    <tr>\n",
       "      <th>data</th>\n",
       "      <th></th>\n",
       "      <th></th>\n",
       "      <th></th>\n",
       "    </tr>\n",
       "  </thead>\n",
       "  <tbody>\n",
       "    <tr>\n",
       "      <th>2011-03-01</th>\n",
       "      <td>0.92</td>\n",
       "      <td>1.48</td>\n",
       "      <td>2.62</td>\n",
       "    </tr>\n",
       "    <tr>\n",
       "      <th>2011-04-01</th>\n",
       "      <td>0.84</td>\n",
       "      <td>1.52</td>\n",
       "      <td>2.66</td>\n",
       "    </tr>\n",
       "    <tr>\n",
       "      <th>2011-05-01</th>\n",
       "      <td>0.99</td>\n",
       "      <td>1.52</td>\n",
       "      <td>2.65</td>\n",
       "    </tr>\n",
       "    <tr>\n",
       "      <th>2011-06-01</th>\n",
       "      <td>0.96</td>\n",
       "      <td>1.50</td>\n",
       "      <td>2.63</td>\n",
       "    </tr>\n",
       "    <tr>\n",
       "      <th>2011-07-01</th>\n",
       "      <td>0.97</td>\n",
       "      <td>1.51</td>\n",
       "      <td>2.65</td>\n",
       "    </tr>\n",
       "    <tr>\n",
       "      <th>...</th>\n",
       "      <td>...</td>\n",
       "      <td>...</td>\n",
       "      <td>...</td>\n",
       "    </tr>\n",
       "    <tr>\n",
       "      <th>2020-10-01</th>\n",
       "      <td>0.16</td>\n",
       "      <td>0.85</td>\n",
       "      <td>1.80</td>\n",
       "    </tr>\n",
       "    <tr>\n",
       "      <th>2020-11-01</th>\n",
       "      <td>0.15</td>\n",
       "      <td>0.86</td>\n",
       "      <td>1.79</td>\n",
       "    </tr>\n",
       "    <tr>\n",
       "      <th>2020-12-01</th>\n",
       "      <td>0.16</td>\n",
       "      <td>0.88</td>\n",
       "      <td>1.75</td>\n",
       "    </tr>\n",
       "    <tr>\n",
       "      <th>2021-01-01</th>\n",
       "      <td>0.15</td>\n",
       "      <td>1.06</td>\n",
       "      <td>1.83</td>\n",
       "    </tr>\n",
       "    <tr>\n",
       "      <th>2021-02-01</th>\n",
       "      <td>0.13</td>\n",
       "      <td>0.96</td>\n",
       "      <td>1.85</td>\n",
       "    </tr>\n",
       "  </tbody>\n",
       "</table>\n",
       "<p>120 rows × 3 columns</p>\n",
       "</div>"
      ],
      "text/plain": [
       "            SELIC  Juros de Pessoa Jurídica  Juros de Pessoa Física\n",
       "data                                                               \n",
       "2011-03-01   0.92                      1.48                    2.62\n",
       "2011-04-01   0.84                      1.52                    2.66\n",
       "2011-05-01   0.99                      1.52                    2.65\n",
       "2011-06-01   0.96                      1.50                    2.63\n",
       "2011-07-01   0.97                      1.51                    2.65\n",
       "...           ...                       ...                     ...\n",
       "2020-10-01   0.16                      0.85                    1.80\n",
       "2020-11-01   0.15                      0.86                    1.79\n",
       "2020-12-01   0.16                      0.88                    1.75\n",
       "2021-01-01   0.15                      1.06                    1.83\n",
       "2021-02-01   0.13                      0.96                    1.85\n",
       "\n",
       "[120 rows x 3 columns]"
      ]
     },
     "execution_count": 7,
     "metadata": {},
     "output_type": "execute_result"
    }
   ],
   "source": [
    "dados = consulta_bc(selic)\n",
    "dados = dados.rename(columns = {'data' : 'Data', 'valor' : 'SELIC'})\n",
    "dados['Juros de Pessoa Jurídica'] = consulta_bc(juros_pj)\n",
    "dados['Juros de Pessoa Física'] = consulta_bc(juros_pf)\n",
    "dados = dados.dropna()\n",
    "dados"
   ]
  },
  {
   "cell_type": "markdown",
   "id": "solar-player",
   "metadata": {},
   "source": [
    "#### Média"
   ]
  },
  {
   "cell_type": "code",
   "execution_count": 8,
   "id": "fossil-function",
   "metadata": {},
   "outputs": [
    {
     "name": "stdout",
     "output_type": "stream",
     "text": [
      "A média mensal da taxa SELIC, desde 2011, é de 0.72%.\n",
      "\n",
      "A média mensal da taxa de juros de pessoas jurídicas, desde 2011, é de 1.31%.\n",
      "\n",
      "A média mensal da taxa de juros de pessoas físicas, desde 2011, é de 2.35%.\n"
     ]
    }
   ],
   "source": [
    "print('A média mensal da taxa SELIC, desde 2011, é de ' + str(round(dados['SELIC'].mean() , 2)) + '%.')\n",
    "\n",
    "print(\"\")\n",
    "\n",
    "print('A média mensal da taxa de juros de pessoas jurídicas, desde 2011, é de ' + str(round(dados['Juros de Pessoa Jurídica'].mean() , 2)) + '%.')\n",
    "\n",
    "print(\"\")\n",
    "\n",
    "print('A média mensal da taxa de juros de pessoas físicas, desde 2011, é de ' + str(round(dados['Juros de Pessoa Física'].mean() , 2)) + '%.')"
   ]
  },
  {
   "cell_type": "markdown",
   "id": "republican-knitting",
   "metadata": {},
   "source": [
    "#### Mediana"
   ]
  },
  {
   "cell_type": "code",
   "execution_count": 9,
   "id": "pregnant-tracker",
   "metadata": {},
   "outputs": [
    {
     "name": "stdout",
     "output_type": "stream",
     "text": [
      "A mediana da série de dados mensal da taxa SELIC, desde 2011, é de 0.73%.\n",
      "\n",
      "A mediana da série de dados mensal da taxa de juros de pessoas jurídicas, desde 2011, é de 1.29%.\n",
      "\n",
      "A mediana da série de dados mensal da taxa de juros de pessoas físicas, desde 2011, é de 2.27%.\n"
     ]
    }
   ],
   "source": [
    "print('A mediana da série de dados mensal da taxa SELIC, desde 2011, é de ' + str(round(dados['SELIC'].median() , 2)) + '%.')\n",
    "\n",
    "print(\"\")\n",
    "\n",
    "print('A mediana da série de dados mensal da taxa de juros de pessoas jurídicas, desde 2011, é de ' \n",
    "      + str(round(dados['Juros de Pessoa Jurídica'].median() , 2)) + '%.')\n",
    "\n",
    "print(\"\")\n",
    "\n",
    "print('A mediana da série de dados mensal da taxa de juros de pessoas físicas, desde 2011, é de ' \n",
    "      + str(round(dados['Juros de Pessoa Física'].median() , 2)) + '%.')"
   ]
  },
  {
   "cell_type": "markdown",
   "id": "earlier-degree",
   "metadata": {},
   "source": [
    "#### Variância"
   ]
  },
  {
   "cell_type": "code",
   "execution_count": 10,
   "id": "proof-flash",
   "metadata": {},
   "outputs": [
    {
     "name": "stdout",
     "output_type": "stream",
     "text": [
      "A variância da série de dados mensal da taxa SELIC, desde 2011, é de 0.08.\n",
      "\n",
      "A variância da série de dados mensal da taxa de juros de pessoas jurídicas, desde 2011, é de 0.05.\n",
      "\n",
      "A variância da série de dados mensal da taxa de juros de pessoas físicas, desde 2011, é de 0.1.\n"
     ]
    }
   ],
   "source": [
    "print('A variância da série de dados mensal da taxa SELIC, desde 2011, é de ' + str(round(dados['SELIC'].var() , 2)) + '.')\n",
    "\n",
    "print(\"\")\n",
    "\n",
    "print('A variância da série de dados mensal da taxa de juros de pessoas jurídicas, desde 2011, é de ' + \n",
    "      str(round(dados['Juros de Pessoa Jurídica'].var() , 2)) + '.')\n",
    "\n",
    "print(\"\")\n",
    "\n",
    "print('A variância da série de dados mensal da taxa de juros de pessoas físicas, desde 2011, é de ' + \n",
    "      str(round(dados['Juros de Pessoa Física'].var() , 2)) + '.')"
   ]
  },
  {
   "cell_type": "markdown",
   "id": "indonesian-postage",
   "metadata": {},
   "source": [
    "#### Desvio padrão"
   ]
  },
  {
   "cell_type": "code",
   "execution_count": 11,
   "id": "formal-hundred",
   "metadata": {},
   "outputs": [
    {
     "name": "stdout",
     "output_type": "stream",
     "text": [
      "O desvio padrão da série de dados mensal da taxa SELIC, desde 2011, é de 0.28.\n",
      "\n",
      "O desvio padrão da série de dados mensal da taxa de juros de pessoas jurídicas, desde 2011, é de 0.21.\n",
      "\n",
      "O desvio padrão da série de dados mensal da taxa de juros de pessoas físicas, desde 2011, é de 0.31.\n"
     ]
    }
   ],
   "source": [
    "print('O desvio padrão da série de dados mensal da taxa SELIC, desde 2011, é de ' + str(round(dados['SELIC'].std() , 2)) + '.')\n",
    "\n",
    "print(\"\")\n",
    "\n",
    "print('O desvio padrão da série de dados mensal da taxa de juros de pessoas jurídicas, desde 2011, é de ' \n",
    "      + str(round(dados['Juros de Pessoa Jurídica'].std() , 2)) + '.')\n",
    "\n",
    "print(\"\")\n",
    "\n",
    "print('O desvio padrão da série de dados mensal da taxa de juros de pessoas físicas, desde 2011, é de ' \n",
    "      + str(round(dados['Juros de Pessoa Física'].std() , 2)) + '.')\n"
   ]
  },
  {
   "cell_type": "markdown",
   "id": "pediatric-climb",
   "metadata": {},
   "source": [
    "#### Correlação da SELIC e juros de pessoa física"
   ]
  },
  {
   "cell_type": "code",
   "execution_count": 12,
   "id": "varying-victoria",
   "metadata": {},
   "outputs": [],
   "source": [
    "X = dados['SELIC']\n",
    "Y = dados['Juros de Pessoa Física']"
   ]
  },
  {
   "cell_type": "code",
   "execution_count": 13,
   "id": "surgical-italy",
   "metadata": {},
   "outputs": [
    {
     "name": "stdout",
     "output_type": "stream",
     "text": [
      "A correlação é de 0.83.\n"
     ]
    }
   ],
   "source": [
    "print('A correlação é de ' + str(round(scipy.stats.pearsonr(X, Y)[0], 2)) + '.')"
   ]
  },
  {
   "cell_type": "markdown",
   "id": "familiar-dating",
   "metadata": {},
   "source": [
    "#### Análise de Regressão da taxa SELIC e dos juros de pessoa física"
   ]
  },
  {
   "cell_type": "code",
   "execution_count": 14,
   "id": "noble-martin",
   "metadata": {},
   "outputs": [],
   "source": [
    "X1 = sm.add_constant(X.values)\n",
    "\n",
    "reg = sm.OLS(Y, X1).fit()"
   ]
  },
  {
   "cell_type": "code",
   "execution_count": 15,
   "id": "premium-stadium",
   "metadata": {},
   "outputs": [
    {
     "data": {
      "text/html": [
       "<table class=\"simpletable\">\n",
       "<caption>OLS Regression Results</caption>\n",
       "<tr>\n",
       "  <th>Dep. Variable:</th>    <td>Juros de Pessoa Física</td> <th>  R-squared:         </th> <td>   0.696</td>\n",
       "</tr>\n",
       "<tr>\n",
       "  <th>Model:</th>                      <td>OLS</td>          <th>  Adj. R-squared:    </th> <td>   0.693</td>\n",
       "</tr>\n",
       "<tr>\n",
       "  <th>Method:</th>                <td>Least Squares</td>     <th>  F-statistic:       </th> <td>   269.6</td>\n",
       "</tr>\n",
       "<tr>\n",
       "  <th>Date:</th>                <td>Mon, 05 Apr 2021</td>    <th>  Prob (F-statistic):</th> <td>2.93e-32</td>\n",
       "</tr>\n",
       "<tr>\n",
       "  <th>Time:</th>                    <td>17:42:26</td>        <th>  Log-Likelihood:    </th> <td>  42.518</td>\n",
       "</tr>\n",
       "<tr>\n",
       "  <th>No. Observations:</th>         <td>   120</td>         <th>  AIC:               </th> <td>  -81.04</td>\n",
       "</tr>\n",
       "<tr>\n",
       "  <th>Df Residuals:</th>             <td>   118</td>         <th>  BIC:               </th> <td>  -75.46</td>\n",
       "</tr>\n",
       "<tr>\n",
       "  <th>Df Model:</th>                 <td>     1</td>         <th>                     </th>     <td> </td>   \n",
       "</tr>\n",
       "<tr>\n",
       "  <th>Covariance Type:</th>         <td>nonrobust</td>       <th>                     </th>     <td> </td>   \n",
       "</tr>\n",
       "</table>\n",
       "<table class=\"simpletable\">\n",
       "<tr>\n",
       "    <td></td>       <th>coef</th>     <th>std err</th>      <th>t</th>      <th>P>|t|</th>  <th>[0.025</th>    <th>0.975]</th>  \n",
       "</tr>\n",
       "<tr>\n",
       "  <th>const</th> <td>    1.6991</td> <td>    0.043</td> <td>   39.750</td> <td> 0.000</td> <td>    1.614</td> <td>    1.784</td>\n",
       "</tr>\n",
       "<tr>\n",
       "  <th>x1</th>    <td>    0.9102</td> <td>    0.055</td> <td>   16.421</td> <td> 0.000</td> <td>    0.800</td> <td>    1.020</td>\n",
       "</tr>\n",
       "</table>\n",
       "<table class=\"simpletable\">\n",
       "<tr>\n",
       "  <th>Omnibus:</th>       <td> 5.394</td> <th>  Durbin-Watson:     </th> <td>   0.265</td>\n",
       "</tr>\n",
       "<tr>\n",
       "  <th>Prob(Omnibus):</th> <td> 0.067</td> <th>  Jarque-Bera (JB):  </th> <td>   3.627</td>\n",
       "</tr>\n",
       "<tr>\n",
       "  <th>Skew:</th>          <td>-0.267</td> <th>  Prob(JB):          </th> <td>   0.163</td>\n",
       "</tr>\n",
       "<tr>\n",
       "  <th>Kurtosis:</th>      <td> 2.336</td> <th>  Cond. No.          </th> <td>    5.47</td>\n",
       "</tr>\n",
       "</table><br/><br/>Notes:<br/>[1] Standard Errors assume that the covariance matrix of the errors is correctly specified."
      ],
      "text/plain": [
       "<class 'statsmodels.iolib.summary.Summary'>\n",
       "\"\"\"\n",
       "                              OLS Regression Results                              \n",
       "==================================================================================\n",
       "Dep. Variable:     Juros de Pessoa Física   R-squared:                       0.696\n",
       "Model:                                OLS   Adj. R-squared:                  0.693\n",
       "Method:                     Least Squares   F-statistic:                     269.6\n",
       "Date:                    Mon, 05 Apr 2021   Prob (F-statistic):           2.93e-32\n",
       "Time:                            17:42:26   Log-Likelihood:                 42.518\n",
       "No. Observations:                     120   AIC:                            -81.04\n",
       "Df Residuals:                         118   BIC:                            -75.46\n",
       "Df Model:                               1                                         \n",
       "Covariance Type:                nonrobust                                         \n",
       "==============================================================================\n",
       "                 coef    std err          t      P>|t|      [0.025      0.975]\n",
       "------------------------------------------------------------------------------\n",
       "const          1.6991      0.043     39.750      0.000       1.614       1.784\n",
       "x1             0.9102      0.055     16.421      0.000       0.800       1.020\n",
       "==============================================================================\n",
       "Omnibus:                        5.394   Durbin-Watson:                   0.265\n",
       "Prob(Omnibus):                  0.067   Jarque-Bera (JB):                3.627\n",
       "Skew:                          -0.267   Prob(JB):                        0.163\n",
       "Kurtosis:                       2.336   Cond. No.                         5.47\n",
       "==============================================================================\n",
       "\n",
       "Notes:\n",
       "[1] Standard Errors assume that the covariance matrix of the errors is correctly specified.\n",
       "\"\"\""
      ]
     },
     "execution_count": 15,
     "metadata": {},
     "output_type": "execute_result"
    }
   ],
   "source": [
    "reg.summary()"
   ]
  },
  {
   "cell_type": "code",
   "execution_count": 16,
   "id": "supposed-poland",
   "metadata": {},
   "outputs": [
    {
     "data": {
      "image/png": "[encoded data removed]",
      "text/plain": [
       "<Figure size 792x504 with 1 Axes>"
      ]
     },
     "metadata": {
      "needs_background": "light"
     },
     "output_type": "display_data"
    }
   ],
   "source": [
    "plt.figure(figsize =(11, 7))\n",
    "plt.scatter(dados['SELIC'], dados['Juros de Pessoa Física'])\n",
    "plt.xlabel('Taxa SELIC mensal', fontsize = 12, fontname = 'Franklin Gothic Book')\n",
    "plt.ylabel('Taxa de juros de Pessoa Física mensal', fontsize = 12, fontname = 'Franklin Gothic Book')\n",
    "plt.title('SELIC e Juros de Pessoa Física', fontsize = 18, fontname = 'Franklin Gothic Book')\n",
    "plt.show()\n"
   ]
  }
 ],
 "metadata": {
  "kernelspec": {
   "display_name": "Python 3",
   "language": "python",
   "name": "python3"
  },
  "language_info": {
   "codemirror_mode": {
    "name": "ipython",
    "version": 3
   },
   "file_extension": ".py",
   "mimetype": "text/x-python",
   "name": "python",
   "nbconvert_exporter": "python",
   "pygments_lexer": "ipython3",
   "version": "3.8.5"
  }
 },
 "nbformat": 4,
 "nbformat_minor": 5
}
