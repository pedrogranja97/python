{
 "cells": [
  {
   "cell_type": "code",
   "execution_count": 1,
   "id": "graphic-sound",
   "metadata": {},
   "outputs": [],
   "source": [
    "### importando pacotes necessários\n",
    "\n",
    "import pandas as pd\n",
    "import matplotlib.pyplot as plt\n",
    "plt.style.use('fivethirtyeight')"
   ]
  },
  {
   "cell_type": "code",
   "execution_count": 2,
   "id": "confidential-korea",
   "metadata": {},
   "outputs": [],
   "source": [
    "### lendo dados disponibilizados pelo IBGE\n",
    "\n",
    "desemprego = pd.read_excel(r'C:\\Users\\Pichau\\Desktop\\desemprego.xlsx', index_col = 0, header = 0)"
   ]
  },
  {
   "cell_type": "code",
   "execution_count": 3,
   "id": "adjusted-democrat",
   "metadata": {},
   "outputs": [
    {
     "data": {
      "text/html": [
       "<div>\n",
       "<style scoped>\n",
       "    .dataframe tbody tr th:only-of-type {\n",
       "        vertical-align: middle;\n",
       "    }\n",
       "\n",
       "    .dataframe tbody tr th {\n",
       "        vertical-align: top;\n",
       "    }\n",
       "\n",
       "    .dataframe thead th {\n",
       "        text-align: right;\n",
       "    }\n",
       "</style>\n",
       "<table border=\"1\" class=\"dataframe\">\n",
       "  <thead>\n",
       "    <tr style=\"text-align: right;\">\n",
       "      <th></th>\n",
       "      <th>Taxa de desemprego</th>\n",
       "    </tr>\n",
       "    <tr>\n",
       "      <th>Data</th>\n",
       "      <th></th>\n",
       "    </tr>\n",
       "  </thead>\n",
       "  <tbody>\n",
       "    <tr>\n",
       "      <th>2012-01-01</th>\n",
       "      <td>7.9</td>\n",
       "    </tr>\n",
       "    <tr>\n",
       "      <th>2012-02-01</th>\n",
       "      <td>7.7</td>\n",
       "    </tr>\n",
       "    <tr>\n",
       "      <th>2012-03-01</th>\n",
       "      <td>7.6</td>\n",
       "    </tr>\n",
       "    <tr>\n",
       "      <th>2012-04-01</th>\n",
       "      <td>7.5</td>\n",
       "    </tr>\n",
       "    <tr>\n",
       "      <th>2012-05-01</th>\n",
       "      <td>7.4</td>\n",
       "    </tr>\n",
       "  </tbody>\n",
       "</table>\n",
       "</div>"
      ],
      "text/plain": [
       "            Taxa de desemprego\n",
       "Data                          \n",
       "2012-01-01                 7.9\n",
       "2012-02-01                 7.7\n",
       "2012-03-01                 7.6\n",
       "2012-04-01                 7.5\n",
       "2012-05-01                 7.4"
      ]
     },
     "execution_count": 3,
     "metadata": {},
     "output_type": "execute_result"
    }
   ],
   "source": [
    "### verificando dados do IBGE\n",
    "\n",
    "desemprego.head()"
   ]
  },
  {
   "cell_type": "code",
   "execution_count": 4,
   "id": "frequent-groove",
   "metadata": {},
   "outputs": [],
   "source": [
    "### criando nova coluna baseada na média móvel de 12 meses\n",
    "\n",
    "desemprego['Média móvel - 12 meses'] = desemprego.rolling(window=12).mean()"
   ]
  },
  {
   "cell_type": "code",
   "execution_count": 5,
   "id": "convenient-messenger",
   "metadata": {},
   "outputs": [
    {
     "data": {
      "text/html": [
       "<div>\n",
       "<style scoped>\n",
       "    .dataframe tbody tr th:only-of-type {\n",
       "        vertical-align: middle;\n",
       "    }\n",
       "\n",
       "    .dataframe tbody tr th {\n",
       "        vertical-align: top;\n",
       "    }\n",
       "\n",
       "    .dataframe thead th {\n",
       "        text-align: right;\n",
       "    }\n",
       "</style>\n",
       "<table border=\"1\" class=\"dataframe\">\n",
       "  <thead>\n",
       "    <tr style=\"text-align: right;\">\n",
       "      <th></th>\n",
       "      <th>Taxa de desemprego</th>\n",
       "      <th>Média móvel - 12 meses</th>\n",
       "    </tr>\n",
       "    <tr>\n",
       "      <th>Data</th>\n",
       "      <th></th>\n",
       "      <th></th>\n",
       "    </tr>\n",
       "  </thead>\n",
       "  <tbody>\n",
       "    <tr>\n",
       "      <th>2020-08-01</th>\n",
       "      <td>14.3</td>\n",
       "      <td>12.758333</td>\n",
       "    </tr>\n",
       "    <tr>\n",
       "      <th>2020-09-01</th>\n",
       "      <td>14.1</td>\n",
       "      <td>13.000000</td>\n",
       "    </tr>\n",
       "    <tr>\n",
       "      <th>2020-10-01</th>\n",
       "      <td>13.9</td>\n",
       "      <td>13.241667</td>\n",
       "    </tr>\n",
       "    <tr>\n",
       "      <th>2020-11-01</th>\n",
       "      <td>14.2</td>\n",
       "      <td>13.491667</td>\n",
       "    </tr>\n",
       "    <tr>\n",
       "      <th>2020-12-01</th>\n",
       "      <td>14.4</td>\n",
       "      <td>13.725000</td>\n",
       "    </tr>\n",
       "  </tbody>\n",
       "</table>\n",
       "</div>"
      ],
      "text/plain": [
       "            Taxa de desemprego  Média móvel - 12 meses\n",
       "Data                                                  \n",
       "2020-08-01                14.3               12.758333\n",
       "2020-09-01                14.1               13.000000\n",
       "2020-10-01                13.9               13.241667\n",
       "2020-11-01                14.2               13.491667\n",
       "2020-12-01                14.4               13.725000"
      ]
     },
     "execution_count": 5,
     "metadata": {},
     "output_type": "execute_result"
    }
   ],
   "source": [
    "### conferindo dados mais recentes\n",
    "\n",
    "desemprego.tail()"
   ]
  },
  {
   "cell_type": "code",
   "execution_count": 6,
   "id": "caring-budapest",
   "metadata": {},
   "outputs": [
    {
     "data": {
      "text/plain": [
       "Text(0.7, -0.1, 'Fonte: PNAD Contínua (IBGE)')"
      ]
     },
     "execution_count": 6,
     "metadata": {},
     "output_type": "execute_result"
    },
    {
     "data": {
      "image/png": "[encoded data removed]",
      "text/plain": [
       "<Figure size 432x288 with 1 Axes>"
      ]
     },
     "metadata": {},
     "output_type": "display_data"
    }
   ],
   "source": [
    "### criando gráfico\n",
    "\n",
    "plt.plot(desemprego['Taxa de desemprego'], color = 'orange', linestyle = 'solid', label = 'Taxa de desemprego')\n",
    "plt.plot(desemprego['Média móvel - 12 meses'], color = 'black', linestyle = 'dashed', label = 'Média móvel em 12 meses')\n",
    "\n",
    "plt.ylabel('Desemprego em %', fontsize = 12, fontname = 'Franklin Gothic Book')\n",
    "plt.title('Desemprego no Brasil', fontsize = 18, fontname = 'Franklin Gothic Book')\n",
    "plt.xlabel('')\n",
    "plt.ylim(0, 20)\n",
    "plt.legend(fontsize = 12)\n",
    "plt.xticks(rotation=30, fontname = 'Franklin Gothic Book')\n",
    "plt.figtext(0.7, -0.1, \"Fonte: PNAD Contínua (IBGE)\", ha=\"center\", fontsize=12, fontname = 'Franklin Gothic Book')"
   ]
  }
 ],
 "metadata": {
  "kernelspec": {
   "display_name": "Python 3",
   "language": "python",
   "name": "python3"
  },
  "language_info": {
   "codemirror_mode": {
    "name": "ipython",
    "version": 3
   },
   "file_extension": ".py",
   "mimetype": "text/x-python",
   "name": "python",
   "nbconvert_exporter": "python",
   "pygments_lexer": "ipython3",
   "version": "3.8.5"
  }
 },
 "nbformat": 4,
 "nbformat_minor": 5
}
